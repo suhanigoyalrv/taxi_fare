{
 "cells": [
  {
   "cell_type": "code",
   "execution_count": null,
   "id": "fe87f968",
   "metadata": {},
   "outputs": [],
   "source": [
    "import numpy as np\n",
    "import pandas as pd\n",
    "import matplotlib.pyplot as plt\n",
    "import seaborn as sns\n",
    "import warnings\n",
    "warnings.filterwarnings(\"ignore\")\n",
    "pd.set_option('display.max_columns',None)\n",
    "pd.set_option('display.max_rows',None)\n",
    "\n",
    "from sklearn.model_selection import train_test_split\n",
    "from sklearn.linear_model import LinearRegression"
   ]
  },
  {
   "cell_type": "code",
   "execution_count": null,
   "id": "04944874",
   "metadata": {},
   "outputs": [],
   "source": [
    "data=pd.read_csv(\"TaxiFare.csv\")"
   ]
  },
  {
   "cell_type": "code",
   "execution_count": null,
   "id": "a4118694",
   "metadata": {
    "scrolled": false
   },
   "outputs": [],
   "source": [
    "data.head()"
   ]
  },
  {
   "cell_type": "code",
   "execution_count": null,
   "id": "15483a0c",
   "metadata": {
    "scrolled": false
   },
   "outputs": [],
   "source": [
    "data.info()"
   ]
  },
  {
   "cell_type": "code",
   "execution_count": null,
   "id": "dcd69788",
   "metadata": {
    "scrolled": false
   },
   "outputs": [],
   "source": [
    "data.dtypes"
   ]
  },
  {
   "cell_type": "code",
   "execution_count": null,
   "id": "93de903e",
   "metadata": {
    "scrolled": false
   },
   "outputs": [],
   "source": [
    "data.describe(include='all')"
   ]
  },
  {
   "cell_type": "code",
   "execution_count": null,
   "id": "e6b7fc8b",
   "metadata": {
    "scrolled": false
   },
   "outputs": [],
   "source": [
    "data.isnull().sum()"
   ]
  },
  {
   "cell_type": "code",
   "execution_count": null,
   "id": "bf46adf4",
   "metadata": {
    "scrolled": true
   },
   "outputs": [],
   "source": [
    "data.shape"
   ]
  },
  {
   "cell_type": "code",
   "execution_count": null,
   "id": "02d0c261",
   "metadata": {},
   "outputs": [],
   "source": [
    "data=data[data[\"amount\"] >= 0]"
   ]
  },
  {
   "cell_type": "code",
   "execution_count": null,
   "id": "77f2acc9",
   "metadata": {},
   "outputs": [],
   "source": [
    "len(data)"
   ]
  },
  {
   "cell_type": "code",
   "execution_count": null,
   "id": "3403bb31",
   "metadata": {},
   "outputs": [],
   "source": [
    "sns.countplot(x=\"amount\",data=data)"
   ]
  },
  {
   "cell_type": "code",
   "execution_count": null,
   "id": "bda6cc21",
   "metadata": {},
   "outputs": [],
   "source": [
    "sns.distplot(data[\"no_of_passenger\"])"
   ]
  },
  {
   "cell_type": "code",
   "execution_count": null,
   "id": "92b432aa",
   "metadata": {},
   "outputs": [],
   "source": [
    "sns.distplot(data[data[\"amount\"] < 100][\"amount\"], kde=False);"
   ]
  },
  {
   "cell_type": "code",
   "execution_count": null,
   "id": "0a1c747b",
   "metadata": {},
   "outputs": [],
   "source": [
    "print(min(data[\"longitude_of_pickup\"].min(), data[\"longitude_of_dropoff\"].min()))"
   ]
  },
  {
   "cell_type": "code",
   "execution_count": null,
   "id": "35c24bfd",
   "metadata": {},
   "outputs": [],
   "source": [
    "print(max(data[\"longitude_of_pickup\"].max(), data[\"longitude_of_dropoff\"].max()))"
   ]
  },
  {
   "cell_type": "code",
   "execution_count": null,
   "id": "b5cd98d0",
   "metadata": {},
   "outputs": [],
   "source": [
    "print(min(data[\"latitude_of_pickup\"].min(), data[\"latitude_of_dropoff\"].min()))"
   ]
  },
  {
   "cell_type": "code",
   "execution_count": null,
   "id": "3afc7e37",
   "metadata": {},
   "outputs": [],
   "source": [
    "print(max(data[\"latitude_of_pickup\"].max(), data[\"latitude_of_dropoff\"].max()))"
   ]
  },
  {
   "cell_type": "code",
   "execution_count": null,
   "id": "31563fef",
   "metadata": {},
   "outputs": [],
   "source": [
    "city_long_border = (-74.03,-73.75)\n",
    "city_lat_border = (40.63,40.85)\n",
    "\n",
    "data.plot(kind='scatter',x='longitude_of_pickup',y='latitude_of_pickup',color='red',s=0.2,alpha=.6)\n",
    "plt.title(\"Pickups\")\n",
    "plt.ylim(city_lat_border)\n",
    "plt.xlim(city_long_border)"
   ]
  },
  {
   "cell_type": "code",
   "execution_count": null,
   "id": "d43eb4b9",
   "metadata": {},
   "outputs": [],
   "source": [
    "city_long_border = (-74.03,-73.75)\n",
    "city_lat_border = (40.63,40.85)\n",
    "\n",
    "data.plot(kind='scatter',x='longitude_of_dropoff',y='latitude_of_dropoff',color='blue',s=0.2,alpha=.6)\n",
    "plt.title(\"Pickups\")\n",
    "plt.ylim(city_lat_border)\n",
    "plt.xlim(city_long_border)"
   ]
  },
  {
   "cell_type": "code",
   "execution_count": null,
   "id": "3e733829",
   "metadata": {},
   "outputs": [],
   "source": [
    "def distance(lat1, lon1, lat2, lon2):\n",
    "  p = 0.017453292519943295 # Pi/180\n",
    "  a = 0.5 - np.cos((lat2 - lat1) * p)/2 + np.cos(lat1 * p) * np.cos(lat2 * p) * (1 - np.cos((lon2 - lon1) * p))/2\n",
    "  return (0.6213712 * 12742 * np.arcsin(np.sqrt(a)))"
   ]
  },
  {
   "cell_type": "code",
   "execution_count": null,
   "id": "2855b695",
   "metadata": {},
   "outputs": [],
   "source": [
    "data[\"distance_miles\"] = distance(data[\"latitude_of_pickup\"], data[\"longitude_of_pickup\"], \n",
    "                                      data[\"latitude_of_dropoff\"], data[\"longitude_of_dropoff\"])"
   ]
  },
  {
   "cell_type": "code",
   "execution_count": null,
   "id": "67594ea0",
   "metadata": {},
   "outputs": [],
   "source": [
    "data.head()"
   ]
  },
  {
   "cell_type": "code",
   "execution_count": null,
   "id": "aaf6358c",
   "metadata": {},
   "outputs": [],
   "source": [
    "data[\"distance_miles\"].hist(bins=50, figsize=(12,4))\n",
    "plt.title(\"Histogram ride distance in miles\");"
   ]
  },
  {
   "cell_type": "code",
   "execution_count": null,
   "id": "ec464bbd",
   "metadata": {},
   "outputs": [],
   "source": [
    "variables={'Monday' : 1 , 'Tuesday' : 2 , 'Wednesday' : 5 , 'Thursday' : 3 , 'Friday' : 7 \n",
    "           ,'Saturday' : 4 , 'Sunday' : 6 }\n",
    "\n",
    "year = {2012 : 1 , 2013 : 2 , 2011 : 3 , 2009 : 4 , 2010 : 5 , 2014 : 6 , 2015 :7}\n",
    "\n",
    "data.drop(['date_time_of_pickup'],axis=1,inplace=True)\n",
    "data.drop(['unique_id'],axis=1,inplace=True)\n",
    "\n",
    "\n",
    "data.head()"
   ]
  },
  {
   "cell_type": "code",
   "execution_count": null,
   "id": "52a8b09b",
   "metadata": {},
   "outputs": [],
   "source": [
    "x = data.drop(['amount'],axis=1)\n",
    "y = data['amount']"
   ]
  },
  {
   "cell_type": "code",
   "execution_count": null,
   "id": "0ec74cc9",
   "metadata": {},
   "outputs": [],
   "source": [
    "x_train, x_test, y_train, y_test = train_test_split(x,y,test_size=0.30,random_state=0)"
   ]
  },
  {
   "cell_type": "code",
   "execution_count": null,
   "id": "b8fc484c",
   "metadata": {},
   "outputs": [],
   "source": [
    "print(\"Shape of x_train: \",x_train.shape)\n",
    "print(\"Shape of x_test: \",x_test.shape)\n",
    "print(\"Shape of y_train: \",y_train.shape)\n",
    "print(\"Shape of y_test: \",y_test.shape)"
   ]
  },
  {
   "cell_type": "code",
   "execution_count": null,
   "id": "62cdfa63",
   "metadata": {},
   "outputs": [],
   "source": [
    "model_1r = LinearRegression()\n",
    "model_1r.fit(x_train, y_train)\n",
    "\n",
    "k=model_1r.score(x_train, y_train)\n",
    "py=model_1r\n",
    "print(k)\n",
    "# x_train.head()\n",
    "# y_train.head()"
   ]
  },
  {
   "cell_type": "code",
   "execution_count": null,
   "id": "772711c4",
   "metadata": {},
   "outputs": [],
   "source": [
    "from sklearn.tree import DecisionTreeRegressor\n",
    "\n",
    "np.random.seed(10)\n",
    "X = np.sort(17 * np.random.rand(17, 1), axis=0)\n",
    "y = np.sin(X).ravel() + np.random.normal(0, 10000, X.shape[0])\n",
    "\n",
    "regressor = DecisionTreeRegressor(max_depth=10)\n",
    "\n",
    "regressor.fit(X, y)\n",
    "\n",
    "X_test = np.arange(1, 17, 0.01)[:, np.newaxis]\n",
    "y_pred = regressor.predict(X_test)"
   ]
  },
  {
   "cell_type": "code",
   "execution_count": null,
   "id": "033d7b69",
   "metadata": {},
   "outputs": [],
   "source": [
    "model_1r =  DecisionTreeRegressor()\n",
    "model_1r.fit(X, y)\n",
    "\n",
    "model_1r.score(X, y)"
   ]
  },
  {
   "cell_type": "code",
   "execution_count": null,
   "id": "c05cbfc3",
   "metadata": {},
   "outputs": [],
   "source": [
    "from sklearn.ensemble import GradientBoostingRegressor\n",
    "from sklearn.metrics import mean_squared_error\n",
    "np.random.seed(42)\n",
    "\n",
    "X_train, X_test, y_train, y_test = train_test_split(X, y, test_size=0.2, random_state=42)\n",
    "\n",
    "gradient_boosting_regressor = GradientBoostingRegressor(n_estimators=100, learning_rate=0.1, max_depth=5, random_state=42)\n",
    "gradient_boosting_regressor.fit(X_train, y_train)\n",
    "y_pred = gradient_boosting_regressor.predict(X_test)\n",
    "mse = mean_squared_error(y_test, y_pred)\n",
    "print(\"Mean Squared Error:\", mse)\n",
    "\n",
    "X_test_sorted = np.sort(X_test, axis=0)\n",
    "y_pred_sorted = gradient_boosting_regressor.predict(X_test_sorted)"
   ]
  },
  {
   "cell_type": "code",
   "execution_count": null,
   "id": "6731c119",
   "metadata": {},
   "outputs": [],
   "source": [
    "model_1r = GradientBoostingRegressor()\n",
    "model_1r.fit(X_train, y_train)\n",
    "\n",
    "model_1r.score(X_train, y_train)"
   ]
  },
  {
   "cell_type": "code",
   "execution_count": null,
   "id": "42ec7216",
   "metadata": {},
   "outputs": [],
   "source": [
    "from sklearn.ensemble import RandomForestRegressor\n",
    "\n",
    "np.random.seed(42)\n",
    "\n",
    "\n",
    "random_forest_regressor = RandomForestRegressor(n_estimators=100, max_depth=5, random_state=42)\n",
    "\n",
    "random_forest_regressor.fit(X_train, y_train)\n",
    "# rr=random_forest_regressor\n",
    "y_pred = random_forest_regressor.predict(X_test)\n",
    "\n",
    "mse = mean_squared_error(y_test, y_pred)\n",
    "print(\"Mean Squared Error:\", mse)\n",
    "\n",
    "X_test_sorted = np.sort(X_test, axis=0)\n",
    "y_pred_sorted = random_forest_regressor.predict(X_test_sorted)"
   ]
  },
  {
   "cell_type": "code",
   "execution_count": null,
   "id": "e05b09e5",
   "metadata": {},
   "outputs": [],
   "source": [
    "model_1r = RandomForestRegressor()\n",
    "model_1r.fit(X_train, y_train)\n",
    "\n",
    "model_1r.score(X_train, y_train)"
   ]
  },
  {
   "cell_type": "code",
   "execution_count": null,
   "id": "cf2b0078",
   "metadata": {},
   "outputs": [],
   "source": [
    "ndf = pd.read_csv(\"TaxiFare.csv\")"
   ]
  },
  {
   "cell_type": "code",
   "execution_count": null,
   "id": "8da7ae11",
   "metadata": {},
   "outputs": [],
   "source": [
    "x = ndf.drop(['amount','date_time_of_pickup','unique_id'],axis=1)\n",
    "y = ndf['amount']"
   ]
  },
  {
   "cell_type": "code",
   "execution_count": null,
   "id": "c1ffe20e",
   "metadata": {},
   "outputs": [],
   "source": [
    "x_train, x_test, y_train, y_test = train_test_split(x,y,test_size=0.30,random_state=0)"
   ]
  },
  {
   "cell_type": "code",
   "execution_count": null,
   "id": "37525f72",
   "metadata": {},
   "outputs": [],
   "source": [
    "x_train.info()\n",
    "# y_train.info()"
   ]
  },
  {
   "cell_type": "code",
   "execution_count": null,
   "id": "ecbeb4c2",
   "metadata": {},
   "outputs": [],
   "source": [
    "np.random.seed(42)\n",
    "\n",
    "x_train, x_test, y_train, y_test = train_test_split(x, y, test_size=0.2, random_state=42)\n",
    "\n",
    "gradient_boosting_regressor = GradientBoostingRegressor(n_estimators=100, learning_rate=0.1, max_depth=5, random_state=42)\n",
    "gradient_boosting_regressor.fit(x_train, y_train)\n",
    "pyr = gradient_boosting_regressor\n"
   ]
  },
  {
   "cell_type": "code",
   "execution_count": null,
   "id": "63746e99",
   "metadata": {},
   "outputs": [],
   "source": [
    "import joblib  \n",
    "\n",
    "joblib.dump(pyr, 'model.pkl') \n",
    "\n",
    "ridge_from_joblib = model = joblib.load(\"model.pkl\")"
   ]
  },
  {
   "cell_type": "code",
   "execution_count": null,
   "id": "b992b6ea",
   "metadata": {},
   "outputs": [],
   "source": [
    "def preprocess(lat1,lon1,lat2,lon2,nop):\n",
    "    test_data=np.array([[lat1,lon1,lat2,lon2,nop]])\n",
    "    trained_model=joblib.load(\"model.pkl\")\n",
    "    prediction=trained_model.predict(test_data)\n",
    "    return prediction\n",
    "t=preprocess(40.733143,-73.987130,40.758092,-73.991567,1)\n",
    "print(\"Fare: \",t)"
   ]
  },
  {
   "cell_type": "code",
   "execution_count": null,
   "id": "8d476c0b",
   "metadata": {},
   "outputs": [],
   "source": []
  },
  {
   "cell_type": "code",
   "execution_count": null,
   "id": "4a6ca79f",
   "metadata": {},
   "outputs": [],
   "source": []
  }
 ],
 "metadata": {
  "kernelspec": {
   "display_name": "Python 3 (ipykernel)",
   "language": "python",
   "name": "python3"
  },
  "language_info": {
   "codemirror_mode": {
    "name": "ipython",
    "version": 3
   },
   "file_extension": ".py",
   "mimetype": "text/x-python",
   "name": "python",
   "nbconvert_exporter": "python",
   "pygments_lexer": "ipython3",
   "version": "3.11.5"
  }
 },
 "nbformat": 4,
 "nbformat_minor": 5
}
